{
 "cells": [
  {
   "cell_type": "markdown",
   "id": "8b47c841-1b6f-45e4-a0c9-fdee851b8f4a",
   "metadata": {},
   "source": [
    "# plansquad intake prototyping"
   ]
  },
  {
   "cell_type": "code",
   "execution_count": 1,
   "id": "2c2745fd-30ab-4b32-9a99-45ab129aaaa8",
   "metadata": {},
   "outputs": [],
   "source": [
    "%%capture --no-stderr\n",
    "%pip install -U langgraph langsmith\n",
    "%pip install -U tavily-python\n",
    "%pip install -U langchain_community\n",
    "%pip install -U langchain-groq\n"
   ]
  },
  {
   "cell_type": "markdown",
   "id": "a633d246-e94f-4efe-95e2-e1d09c6135e9",
   "metadata": {},
   "source": [
    "## Set up the environment"
   ]
  },
  {
   "cell_type": "code",
   "execution_count": 2,
   "id": "5f74067d-dc52-4a1f-838f-bc5ebb37b6bb",
   "metadata": {},
   "outputs": [],
   "source": [
    "import getpass\n",
    "import os\n",
    "\n",
    "\n",
    "def _set_env(var: str):\n",
    "    if not os.environ.get(var):\n",
    "        os.environ[var] = getpass.getpass(f\"{var}: \")\n",
    "\n",
    "_set_env(\"GROQ_API_KEY\")\n",
    "_set_env(\"TAVILY_API_KEY\")"
   ]
  },
  {
   "cell_type": "code",
   "execution_count": 3,
   "id": "e399f48f-7b1b-4038-994d-d39df1a8f0f3",
   "metadata": {},
   "outputs": [],
   "source": [
    "_set_env(\"LANGSMITH_API_KEY\")\n",
    "os.environ[\"LANGCHAIN_TRACING_V2\"] = \"true\"\n",
    "os.environ[\"LANGCHAIN_PROJECT\"] = \"PlanSquad Intake Test\""
   ]
  },
  {
   "cell_type": "code",
   "execution_count": 4,
   "id": "9971336f-2312-4bd5-a4e0-2d4bb7bda5ba",
   "metadata": {},
   "outputs": [],
   "source": [
    "# Make sure we're using the decrypted secrets\n",
    "assert(os.environ[\"LANGSMITH_API_KEY\"].startswith(\"lsv2_\"))"
   ]
  },
  {
   "cell_type": "markdown",
   "id": "e40835f0-57e6-47fd-96d5-e710c9e504dd",
   "metadata": {},
   "source": [
    "## Load a chat engine"
   ]
  },
  {
   "cell_type": "code",
   "execution_count": 5,
   "id": "eff38aa3-e04e-4b0f-8244-da4e8eeba218",
   "metadata": {},
   "outputs": [],
   "source": [
    "from langchain_groq import ChatGroq\n",
    "\n",
    "model = ChatGroq(model=\"llama-3.1-8b-instant\")"
   ]
  },
  {
   "cell_type": "markdown",
   "id": "e5d91bc6-f915-4f23-aad7-22b4885db880",
   "metadata": {},
   "source": [
    "## Build a prompt template"
   ]
  },
  {
   "cell_type": "code",
   "execution_count": 6,
   "id": "4f74f03f-5093-45be-8802-dae2078adcc5",
   "metadata": {},
   "outputs": [],
   "source": [
    "from langchain_core.prompts import ChatPromptTemplate\n",
    "\n",
    "# From https://smith.langchain.com/hub/mcdiddy/knowledgebasejsoniterator\n",
    "\n",
    "prompt = ChatPromptTemplate.from_messages([\n",
    "  (\"system\", '''\n",
    "  You are a helpful, skilled analyst that assists people in creating a\n",
    "  detailed plan. You will need to:\n",
    "  1. Determine what type of plan they're creating with you;\n",
    "  2. Extract the specific information needed for the plan;\n",
    "  3. Ask clarifying questions or suggest a few clarifications of your own;\n",
    "  4. Iterate until you can generate the plan;\n",
    "  5. Always defer to the person you're helping as the ultimate authority.\n",
    "'''),\n",
    "  (\"human\", \"{question}\"),\n",
    "])\n"
   ]
  },
  {
   "cell_type": "markdown",
   "id": "cd1c29cf-0375-4546-a4b7-6f038a4b7595",
   "metadata": {},
   "source": [
    "## Execute"
   ]
  },
  {
   "cell_type": "code",
   "execution_count": 7,
   "id": "dd5703f9-414f-4b9e-bb43-da66c0c69294",
   "metadata": {},
   "outputs": [
    {
     "data": {
      "text/plain": [
       "AIMessage(content=\"To create an effective training plan for your sales team on selling your new software, we'll need to break it down into several key components. Let's start with the basics.\\n\\nCan you tell me a bit more about your new software? For example:\\n\\n* What problem does it solve for customers?\\n* What are its key features and benefits?\\n* Who is the target audience for this software?\\n* What are the primary pain points or challenges that your sales team will be addressing with this software?\\n\\nAlso, what are your goals for this training? Are you looking to:\\n\\n* Introduce the software to new sales team members?\\n* Refresh existing sales team members on the software?\\n* Improve sales performance and close rates with the software?\\n* Develop a consistent sales message and pitch?\\n\\nThis will help us determine the scope and focus of the training plan.\", response_metadata={'token_usage': {'completion_tokens': 169, 'prompt_tokens': 158, 'total_tokens': 327, 'completion_time': 0.225333333, 'prompt_time': 0.03595208, 'queue_time': 0.0022386600000000034, 'total_time': 0.261285413}, 'model_name': 'llama-3.1-8b-instant', 'system_fingerprint': 'fp_f66ccb39ec', 'finish_reason': 'stop', 'logprobs': None}, id='run-b71e4509-32bf-4789-bea8-e0912c93a87c-0', usage_metadata={'input_tokens': 158, 'output_tokens': 169, 'total_tokens': 327})"
      ]
     },
     "execution_count": 7,
     "metadata": {},
     "output_type": "execute_result"
    }
   ],
   "source": [
    "messages  = prompt.invoke({\"question\": '''\n",
    "I want to create training for a group of salespeople on how to sell my new software. Help me make a plan.\n",
    "'''}).messages\n",
    "\n",
    "model.invoke(messages)"
   ]
  }
 ],
 "metadata": {
  "kernelspec": {
   "display_name": "Python 3 (ipykernel)",
   "language": "python",
   "name": "python3"
  },
  "language_info": {
   "codemirror_mode": {
    "name": "ipython",
    "version": 3
   },
   "file_extension": ".py",
   "mimetype": "text/x-python",
   "name": "python",
   "nbconvert_exporter": "python",
   "pygments_lexer": "ipython3",
   "version": "3.12.5"
  }
 },
 "nbformat": 4,
 "nbformat_minor": 5
}
