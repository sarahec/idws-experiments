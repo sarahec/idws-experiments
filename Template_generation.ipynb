{
 "cells": [
  {
   "cell_type": "markdown",
   "id": "8b47c841-1b6f-45e4-a0c9-fdee851b8f4a",
   "metadata": {},
   "source": [
    "# plansquad template generation (Markdown)\n",
    "\n",
    "Build a planning template as structured Markdown. This takes the form of a graph where we generate markdown in the first node, then pass it to a conversion and validation tool. (This might be better done by fine-tuning a model to do the conversion in a single step.) \n"
   ]
  },
  {
   "cell_type": "code",
   "execution_count": null,
   "id": "2c2745fd-30ab-4b32-9a99-45ab129aaaa8",
   "metadata": {},
   "outputs": [],
   "source": [
    "%%capture --no-stderr\n",
    "%pip install -U langgraph langsmith\n",
    "%pip install -U tavily-python\n",
    "%pip install -U langchain_community\n",
    "%pip install -U langchain-groq\n"
   ]
  },
  {
   "cell_type": "markdown",
   "id": "a633d246-e94f-4efe-95e2-e1d09c6135e9",
   "metadata": {},
   "source": [
    "## Set up the environment"
   ]
  },
  {
   "cell_type": "code",
   "execution_count": null,
   "id": "5f74067d-dc52-4a1f-838f-bc5ebb37b6bb",
   "metadata": {},
   "outputs": [],
   "source": [
    "import getpass\n",
    "import os\n",
    "\n",
    "\n",
    "def _set_env(var: str):\n",
    "    if not os.environ.get(var):\n",
    "        os.environ[var] = getpass.getpass(f\"{var}: \")\n",
    "\n",
    "_set_env(\"GROQ_API_KEY\")\n",
    "_set_env(\"TAVILY_API_KEY\")\n",
    "_set_env(\"LANGSMITH_API_KEY\")\n",
    "os.environ[\"LANGCHAIN_TRACING_V2\"] = \"true\"\n",
    "os.environ[\"LANGCHAIN_PROJECT\"] = \"PlanSquad Intake Test\"\n",
    "# Make sure we're using the decrypted secrets\n",
    "assert(os.environ[\"LANGSMITH_API_KEY\"].startswith(\"lsv2_\"))"
   ]
  },
  {
   "cell_type": "markdown",
   "id": "e40835f0-57e6-47fd-96d5-e710c9e504dd",
   "metadata": {},
   "source": [
    "## Load a chat engine"
   ]
  },
  {
   "cell_type": "code",
   "execution_count": null,
   "id": "eff38aa3-e04e-4b0f-8244-da4e8eeba218",
   "metadata": {},
   "outputs": [],
   "source": [
    "from langchain_groq import ChatGroq\n",
    "\n",
    "model = ChatGroq(model=\"llama-3.1-8b-instant\")"
   ]
  },
  {
   "cell_type": "markdown",
   "id": "e5d91bc6-f915-4f23-aad7-22b4885db880",
   "metadata": {},
   "source": [
    "## Build a prompt template"
   ]
  },
  {
   "cell_type": "code",
   "execution_count": null,
   "id": "4f74f03f-5093-45be-8802-dae2078adcc5",
   "metadata": {},
   "outputs": [],
   "source": [
    "from langchain_core.prompts import ChatPromptTemplate\n",
    "\n",
    "# From https://smith.langchain.com/hub/mcdiddy/knowledgebasejsoniterator\n",
    "\n",
    "prompt = ChatPromptTemplate.from_messages([\n",
    "  (\"system\", '''\n",
    "  You are a helpful, skilled planner who assists people in planning their\n",
    "  most important events. But before you create a detailed plan, there are\n",
    "  things you need to know.\n",
    "\n",
    "  You are going to create an outline with the questions it takes to make\n",
    "  a detailed plan with them. I want you to create it in the following format: \n",
    "  {format_details}\n",
    "  \n",
    "  For example, if they are planning a birthday party, your outline might \n",
    "  look like this:\n",
    "\n",
    "```{format}\n",
    "{format_sample}\n",
    "```\n",
    "\n",
    "Here are the instructions for you to follow:\n",
    "1. Give a friendly greeting and ask what they would like to plan.\n",
    "2. Do NOT ask them questions or make suggestions.\n",
    "3. Offer them an outline like the one above. It should be as complete as you can make it.\n",
    "4. Your outline will be in Markdown format. Avoid any extraneous text that isn't in {format}.\n",
    "\n",
    "\n",
    "'''),\n",
    "  (\"human\", \"{question}\"),\n",
    "])\n"
   ]
  },
  {
   "cell_type": "markdown",
   "id": "cd1c29cf-0375-4546-a4b7-6f038a4b7595",
   "metadata": {},
   "source": [
    "## Generate template\n",
    "\n",
    "### Markdown sample"
   ]
  },
  {
   "cell_type": "code",
   "execution_count": null,
   "id": "dd5703f9-414f-4b9e-bb43-da66c0c69294",
   "metadata": {},
   "outputs": [],
   "source": [
    "format = \"markdown\"\n",
    "format_details = '''\n",
    "# Short name such as \"Birthday Party Planner\"\n",
    "\n",
    "A short description of what this plan is for.\n",
    "\n",
    "## First section name\n",
    "\n",
    "1. Question\n",
    "2. Question\n",
    "3. Question\n",
    "\n",
    "## Second section name\n",
    "\n",
    "1. Question\n",
    "2. Question\n",
    "3. Question\n",
    "\n",
    "'''\n",
    "\n",
    "format_sample = '''\n",
    "# Birthday Party Plan\n",
    "# Birthday Party planner\n",
    "\n",
    "This will help you plan the perfect birthday party! Please fill in any information\n",
    "you can. \n",
    "\n",
    "## The basics\n",
    "\n",
    "1. Who is this party for?\n",
    "2. When do you want this to happen?\n",
    "3. Who will you invite?\n",
    "\n",
    "## The venue\n",
    "\n",
    "1. What is the venue?\n",
    "2. What is its availability?\n",
    "3. How much does it cost?\n",
    "'''"
   ]
  },
  {
   "cell_type": "code",
   "execution_count": null,
   "id": "935baf24",
   "metadata": {},
   "outputs": [],
   "source": [
    "messages  = prompt.invoke(\n",
    "    {\"question\": '''\n",
    "I want to create training for a group of salespeople.\n",
    "''', \n",
    "    \"format\": format, \n",
    "    \"format_details\": format_details,\n",
    "    \"format_sample\": format_sample\n",
    "}).messages\n",
    "\n",
    "model.invoke(messages)"
   ]
  }
 ],
 "metadata": {
  "kernelspec": {
   "display_name": "Python 3 (ipykernel)",
   "language": "python",
   "name": "python3"
  },
  "language_info": {
   "codemirror_mode": {
    "name": "ipython",
    "version": 3
   },
   "file_extension": ".py",
   "mimetype": "text/x-python",
   "name": "python",
   "nbconvert_exporter": "python",
   "pygments_lexer": "ipython3",
   "version": "3.12.5"
  }
 },
 "nbformat": 4,
 "nbformat_minor": 5
}
