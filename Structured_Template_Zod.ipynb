{
 "cells": [
  {
   "cell_type": "markdown",
   "id": "b1fca1ae-3780-4759-8082-f572bfb5c176",
   "metadata": {},
   "source": [
    "# Structured template generation with Zod\n",
    "\n",
    "Use [Zod](https://zod.dev/) to provide a schema when generating a PlanSquad template.\n"
   ]
  },
  {
   "cell_type": "code",
   "execution_count": 1,
   "id": "7af59635-f8e3-4c68-9ddd-61189622d676",
   "metadata": {},
   "outputs": [],
   "source": [
    "import { ChatGroq } from \"npm:@langchain/groq\";\n",
    "\n",
    "const model = new ChatGroq({\n",
    "  model: \"mixtral-8x7b-32768\",\n",
    "  temperature: 0\n",
    "});"
   ]
  },
  {
   "cell_type": "code",
   "execution_count": 2,
   "id": "8a6b4572-e3e0-4350-be71-aa83c00fd79e",
   "metadata": {},
   "outputs": [
    {
     "name": "stdout",
     "output_type": "stream",
     "text": [
      "You must format your output as a JSON value that adheres to a given \"JSON Schema\" instance.\n",
      "\n",
      "\"JSON Schema\" is a declarative language that allows you to annotate and validate JSON documents.\n",
      "\n",
      "For example, the example \"JSON Schema\" instance {{\"properties\": {{\"foo\": {{\"description\": \"a list of test words\", \"type\": \"array\", \"items\": {{\"type\": \"string\"}}}}}}, \"required\": [\"foo\"]}}}}\n",
      "would match an object with one required property, \"foo\". The \"type\" property specifies \"foo\" must be an \"array\", and the \"description\" property semantically describes it as \"a list of test words\". The items within \"foo\" must be strings.\n",
      "Thus, the object {{\"foo\": [\"bar\", \"baz\"]}} is a well-formatted instance of this example \"JSON Schema\". The object {{\"properties\": {{\"foo\": [\"bar\", \"baz\"]}}}} is not well-formatted.\n",
      "\n",
      "Your output will be parsed and type-checked according to the provided schema instance, so make sure all fields in your output match the schema exactly and there are no trailing commas!\n",
      "\n",
      "Here is the JSON Schema instance your output must adhere to. Include the enclosing markdown codeblock:\n",
      "```json\n",
      "{\"type\":\"object\",\"properties\":{\"answer\":{\"type\":\"string\",\"description\":\"answer to the user's question\"},\"source\":{\"type\":\"string\",\"description\":\"source used to answer the user's question, should be a website.\"}},\"required\":[\"answer\",\"source\"],\"additionalProperties\":false,\"$schema\":\"http://json-schema.org/draft-07/schema#\"}\n",
      "```\n",
      "\n"
     ]
    }
   ],
   "source": [
    "import { z } from \"npm:zod\";\n",
    "import { RunnableSequence } from \"npm:@langchain/core/runnables\";\n",
    "import { StructuredOutputParser } from \"npm:@langchain/core/output_parsers\";\n",
    "import { ChatPromptTemplate } from \"npm:@langchain/core/prompts\";\n",
    "\n",
    "const zodSchema = z.object({\n",
    "  answer: z.string().describe(\"answer to the user's question\"),\n",
    "  source: z\n",
    "    .string()\n",
    "    .describe(\n",
    "      \"source used to answer the user's question, should be a website.\"\n",
    "    ),\n",
    "});\n",
    "\n",
    "const parser = StructuredOutputParser.fromZodSchema(zodSchema);\n",
    "\n",
    "const chain = RunnableSequence.from([\n",
    "  ChatPromptTemplate.fromTemplate(\n",
    "    \"Answer the users question as best as possible.\\n{format_instructions}\\n{question}\"\n",
    "  ),\n",
    "  model,\n",
    "  parser,\n",
    "]);\n",
    "\n",
    "console.log(parser.getFormatInstructions());"
   ]
  },
  {
   "cell_type": "code",
   "execution_count": 3,
   "id": "5e2321b4-4bd4-42fc-9b5c-66528a5a2046",
   "metadata": {},
   "outputs": [
    {
     "name": "stdout",
     "output_type": "stream",
     "text": [
      "{\n",
      "  answer: \"Paris\",\n",
      "  source: \"https://en.wikipedia.org/wiki/Capital_of_France\"\n",
      "}\n"
     ]
    }
   ],
   "source": [
    "const response = await chain.invoke({\n",
    "  question: \"What is the capital of France?\",\n",
    "  format_instructions: parser.getFormatInstructions(),\n",
    "});\n",
    "\n",
    "console.log(response);"
   ]
  }
 ],
 "metadata": {
  "kernelspec": {
   "display_name": "Deno",
   "language": "typescript",
   "name": "deno"
  },
  "language_info": {
   "codemirror_mode": "typescript",
   "file_extension": ".ts",
   "mimetype": "text/x.typescript",
   "name": "typescript",
   "nbconvert_exporter": "script",
   "pygments_lexer": "typescript",
   "version": "5.5.2"
  }
 },
 "nbformat": 4,
 "nbformat_minor": 5
}
