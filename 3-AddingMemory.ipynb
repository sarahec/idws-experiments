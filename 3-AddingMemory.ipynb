{
 "cells": [
  {
   "cell_type": "markdown",
   "id": "8b47c841-1b6f-45e4-a0c9-fdee851b8f4a",
   "metadata": {},
   "source": [
    "# Langgraph tutorial | Chat including Tools\n",
    "\n",
    "Note: Groq replaces Anthropic"
   ]
  },
  {
   "cell_type": "code",
   "execution_count": null,
   "id": "2c2745fd-30ab-4b32-9a99-45ab129aaaa8",
   "metadata": {},
   "outputs": [],
   "source": [
    "%%capture --no-stderr\n",
    "%pip install -qU langgraph langsmith\n",
    "%pip install -qU tavily-python\n",
    "%pip install -qU langchain_community\n",
    "\n",
    "# Used for this tutorial; not a requirement for LangGraph\n",
    "%pip install -qU langchain-groq\n"
   ]
  },
  {
   "cell_type": "code",
   "execution_count": null,
   "id": "5f74067d-dc52-4a1f-838f-bc5ebb37b6bb",
   "metadata": {},
   "outputs": [],
   "source": [
    "import getpass\n",
    "import os\n",
    "\n",
    "\n",
    "def _set_env(var: str):\n",
    "    if not os.environ.get(var):\n",
    "        os.environ[var] = getpass.getpass(f\"{var}: \")\n",
    "\n",
    "_set_env(\"GROQ_API_KEY\")\n",
    "_set_env(\"TAVILY_API_KEY\")"
   ]
  },
  {
   "cell_type": "code",
   "execution_count": null,
   "id": "e399f48f-7b1b-4038-994d-d39df1a8f0f3",
   "metadata": {},
   "outputs": [],
   "source": [
    "_set_env(\"LANGSMITH_API_KEY\")\n",
    "os.environ[\"LANGCHAIN_TRACING_V2\"] = \"true\"\n",
    "os.environ[\"LANGCHAIN_PROJECT\"] = \"LangGraph Tutorial\""
   ]
  },
  {
   "cell_type": "code",
   "execution_count": null,
   "id": "c83f1007-cfb4-4636-bbbd-ffd0456247d3",
   "metadata": {},
   "outputs": [],
   "source": [
    "from typing import Annotated\n",
    "from typing_extensions import TypedDict\n",
    "\n",
    "from langchain_groq import ChatGroq\n",
    "from langgraph.checkpoint.memory import MemorySaver\n",
    "from langchain_community.tools.tavily_search import TavilySearchResults\n",
    "from langchain_core.messages import BaseMessage\n",
    "\n",
    "from langgraph.graph import StateGraph, START, END\n",
    "from langgraph.graph.message import add_messages\n",
    "from langgraph.prebuilt import ToolNode, tools_condition\n",
    "\n",
    "\n",
    "class State(TypedDict):\n",
    "    # Messages have the type \"list\". The `add_messages` function\n",
    "    # in the annotation defines how this state key should be updated\n",
    "    # (in this case, it appends messages to the list, rather than overwriting them)\n",
    "    messages: Annotated[list, add_messages]\n",
    "\n",
    "memory = MemorySaver()\n",
    "\n",
    "graph_builder = StateGraph(State)\n",
    "\n",
    "tool = TavilySearchResults(max_results=2)\n",
    "tools = [tool]\n",
    "llm = ChatGroq(model=\"llama-3.1-8b-instant\", temperature=0.5)\n",
    "llm_with_tools = llm.bind_tools(tools)\n",
    "\n",
    "def chatbot(state: State):\n",
    "    return {\"messages\": [llm_with_tools.invoke(state[\"messages\"])]}\n",
    "\n",
    "# The first argument is the unique node name\n",
    "# The second argument is the function or object that will be called whenever\n",
    "# the node is used.\n",
    "graph_builder.add_node(\"chatbot\", chatbot)\n",
    "\n",
    "tool_node = ToolNode(tools=[tool])\n",
    "graph_builder.add_node(\"tools\", tool_node)\n",
    "\n",
    "graph_builder.add_conditional_edges(\n",
    "    \"chatbot\",\n",
    "    tools_condition,\n",
    ")\n",
    "# Any time a tool is called, we return to the chatbot to decide the next step\n",
    "graph_builder.add_edge(\"tools\", \"chatbot\")\n",
    "graph_builder.add_edge(START, \"chatbot\")\n",
    "\n",
    "graph = graph_builder.compile(checkpointer=memory)"
   ]
  },
  {
   "cell_type": "code",
   "execution_count": null,
   "id": "a16845f4-1255-4b32-9ce7-79f207d07aa5",
   "metadata": {},
   "outputs": [],
   "source": [
    "from IPython.display import Image, display\n",
    "\n",
    "try:\n",
    "    display(Image(graph.get_graph().draw_mermaid_png()))\n",
    "except Exception:\n",
    "    # This requires some extra dependencies and is optional\n",
    "    pass"
   ]
  },
  {
   "cell_type": "markdown",
   "id": "6ff50a96-a0dc-49e1-927d-634a7875daca",
   "metadata": {},
   "source": [
    "## Memory test\n",
    "\n",
    "Give the LLM my name then ask if it remembers it."
   ]
  },
  {
   "cell_type": "code",
   "execution_count": null,
   "id": "34114bbe-e79d-486d-aec9-f538b1645b59",
   "metadata": {},
   "outputs": [],
   "source": [
    "os.environ.get(\"LANGSMITH_API_KEY\")"
   ]
  },
  {
   "cell_type": "code",
   "execution_count": null,
   "id": "cbfb858a-900c-4c2c-8b52-936c4e49654a",
   "metadata": {},
   "outputs": [],
   "source": [
    "config = {\"configurable\": {\"thread_id\": \"1\"}}"
   ]
  },
  {
   "cell_type": "code",
   "execution_count": null,
   "id": "b11a06ad-6f21-426f-9420-a48e91671733",
   "metadata": {},
   "outputs": [],
   "source": [
    "user_input = \"Hi there! My name is Sarah.\"\n",
    "\n",
    "# The config is the **second positional argument** to stream() or invoke()!\n",
    "events = graph.stream(\n",
    "    {\"messages\": [(\"user\", user_input)]}, config, stream_mode=\"values\"\n",
    ")\n",
    "for event in events:\n",
    "    event[\"messages\"][-1].pretty_print()"
   ]
  },
  {
   "cell_type": "code",
   "execution_count": null,
   "id": "9c5db321-0b91-479f-a356-54ea1ddc70df",
   "metadata": {},
   "outputs": [],
   "source": [
    "user_input = \"Remember my name?\"\n",
    "\n",
    "# The config is the **second positional argument** to stream() or invoke()!\n",
    "events = graph.stream(\n",
    "    {\"messages\": [(\"user\", user_input)]}, config, stream_mode=\"values\"\n",
    ")\n",
    "for event in events:\n",
    "    event[\"messages\"][-1].pretty_print()"
   ]
  },
  {
   "cell_type": "markdown",
   "id": "28905427-9ee9-4bef-952d-922023f0e788",
   "metadata": {},
   "source": [
    "## Switch context\n",
    "\n",
    "Open a new conversational thread and see if my name comes over from the first (it shouldn't)."
   ]
  },
  {
   "cell_type": "code",
   "execution_count": null,
   "id": "9a619950-14f9-4a17-837e-fc0c2b838211",
   "metadata": {},
   "outputs": [],
   "source": [
    "# The only difference is we change the `thread_id` here to \"2\" instead of \"1\"\n",
    "events = graph.stream(\n",
    "    {\"messages\": [(\"user\", user_input)]},\n",
    "    {\"configurable\": {\"thread_id\": \"2\"}},\n",
    "    stream_mode=\"values\",\n",
    ")\n",
    "for event in events:\n",
    "    event[\"messages\"][-1].pretty_print()"
   ]
  },
  {
   "cell_type": "markdown",
   "id": "b76f4289-b292-45e2-9ae9-2435afb50701",
   "metadata": {},
   "source": [
    "## Inspect a snapshot"
   ]
  },
  {
   "cell_type": "code",
   "execution_count": null,
   "id": "5d6bd529-a17b-4f91-ad65-52c4cb052ab6",
   "metadata": {},
   "outputs": [],
   "source": [
    "snapshot = graph.get_state(config)\n",
    "snapshot"
   ]
  },
  {
   "cell_type": "code",
   "execution_count": null,
   "id": "5e29e83e-cdfa-40ed-aa06-7d0e8732ba69",
   "metadata": {},
   "outputs": [],
   "source": [
    "snapshot.next  # (since the graph ended this turn, `next` is empty. If you fetch a state from within a graph invocation, next tells which node will execute next)"
   ]
  }
 ],
 "metadata": {
  "kernelspec": {
   "display_name": "Python 3 (ipykernel)",
   "language": "python",
   "name": "python3"
  },
  "language_info": {
   "codemirror_mode": {
    "name": "ipython",
    "version": 3
   },
   "file_extension": ".py",
   "mimetype": "text/x-python",
   "name": "python",
   "nbconvert_exporter": "python",
   "pygments_lexer": "ipython3",
   "version": "3.12.4"
  }
 },
 "nbformat": 4,
 "nbformat_minor": 5
}
